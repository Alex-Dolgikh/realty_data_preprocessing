{
 "cells": [
  {
   "cell_type": "code",
   "execution_count": 29,
   "metadata": {},
   "outputs": [],
   "source": [
    "import pandas as pd\n",
    "import seaborn as sns\n",
    "import matplotlib.pyplot as plt\n",
    "# import plotly.express as px"
   ]
  },
  {
   "cell_type": "code",
   "execution_count": 30,
   "metadata": {},
   "outputs": [
    {
     "data": {
      "text/html": [
       "<div>\n",
       "<style scoped>\n",
       "    .dataframe tbody tr th:only-of-type {\n",
       "        vertical-align: middle;\n",
       "    }\n",
       "\n",
       "    .dataframe tbody tr th {\n",
       "        vertical-align: top;\n",
       "    }\n",
       "\n",
       "    .dataframe thead th {\n",
       "        text-align: right;\n",
       "    }\n",
       "</style>\n",
       "<table border=\"1\" class=\"dataframe\">\n",
       "  <thead>\n",
       "    <tr style=\"text-align: right;\">\n",
       "      <th></th>\n",
       "      <th>ID</th>\n",
       "      <th>number_of_rooms</th>\n",
       "      <th>type</th>\n",
       "      <th>metro</th>\n",
       "      <th>adress</th>\n",
       "      <th>size</th>\n",
       "      <th>building</th>\n",
       "      <th>parking</th>\n",
       "      <th>price</th>\n",
       "      <th>phone_number</th>\n",
       "      <th>...</th>\n",
       "      <th>bath</th>\n",
       "      <th>shower</th>\n",
       "      <th>washing_machine</th>\n",
       "      <th>air_conditioner</th>\n",
       "      <th>dishwasher</th>\n",
       "      <th>television</th>\n",
       "      <th>frodge</th>\n",
       "      <th>internet</th>\n",
       "      <th>telephone</th>\n",
       "      <th>floor</th>\n",
       "    </tr>\n",
       "  </thead>\n",
       "  <tbody>\n",
       "    <tr>\n",
       "      <th>0</th>\n",
       "      <td>271271157</td>\n",
       "      <td>4.0</td>\n",
       "      <td>Квартира</td>\n",
       "      <td>Смоленская</td>\n",
       "      <td>Москва, улица Новый Арбат, 27</td>\n",
       "      <td>200.0</td>\n",
       "      <td>5/16, Монолитный</td>\n",
       "      <td>подземная</td>\n",
       "      <td>500000.0 руб./ За месяц, Залог - 500000 руб., ...</td>\n",
       "      <td>+79166369231</td>\n",
       "      <td>...</td>\n",
       "      <td>Ванна</td>\n",
       "      <td>Душевая кабина</td>\n",
       "      <td>Стиральная машина</td>\n",
       "      <td>Кондиционер</td>\n",
       "      <td>Посудомоечная машина</td>\n",
       "      <td>Телевизор</td>\n",
       "      <td>Холодильник</td>\n",
       "      <td>Интернет</td>\n",
       "      <td>Телефон</td>\n",
       "      <td>5</td>\n",
       "    </tr>\n",
       "    <tr>\n",
       "      <th>1</th>\n",
       "      <td>271634126</td>\n",
       "      <td>4.0</td>\n",
       "      <td>Квартира</td>\n",
       "      <td>Смоленская</td>\n",
       "      <td>Москва, улица Новый Арбат, 27</td>\n",
       "      <td>198.0</td>\n",
       "      <td>5/16, Монолитно-кирпичный</td>\n",
       "      <td>подземная</td>\n",
       "      <td>500000.0 руб./ За месяц, Залог - 500000 руб., ...</td>\n",
       "      <td>+79850608590</td>\n",
       "      <td>...</td>\n",
       "      <td>Ванна</td>\n",
       "      <td>Душевая кабина</td>\n",
       "      <td>Стиральная машина</td>\n",
       "      <td>Кондиционер</td>\n",
       "      <td>Посудомоечная машина</td>\n",
       "      <td>Телевизор</td>\n",
       "      <td>Холодильник</td>\n",
       "      <td>Интернет</td>\n",
       "      <td>0</td>\n",
       "      <td>5</td>\n",
       "    </tr>\n",
       "    <tr>\n",
       "      <th>2</th>\n",
       "      <td>271173086</td>\n",
       "      <td>4.0</td>\n",
       "      <td>Квартира</td>\n",
       "      <td>Смоленская</td>\n",
       "      <td>Москва, улица Новый Арбат, 27</td>\n",
       "      <td>200.0</td>\n",
       "      <td>5/16</td>\n",
       "      <td>подземная</td>\n",
       "      <td>500000.0 руб./ За месяц, Залог - 500000 руб., ...</td>\n",
       "      <td>+79672086536, +79099269384</td>\n",
       "      <td>...</td>\n",
       "      <td>Ванна</td>\n",
       "      <td>Душевая кабина</td>\n",
       "      <td>Стиральная машина</td>\n",
       "      <td>Кондиционер</td>\n",
       "      <td>Посудомоечная машина</td>\n",
       "      <td>Телевизор</td>\n",
       "      <td>Холодильник</td>\n",
       "      <td>Интернет</td>\n",
       "      <td>Телефон</td>\n",
       "      <td>5</td>\n",
       "    </tr>\n",
       "    <tr>\n",
       "      <th>3</th>\n",
       "      <td>272197456</td>\n",
       "      <td>4.0</td>\n",
       "      <td>Квартира</td>\n",
       "      <td>Смоленская</td>\n",
       "      <td>Москва, переулок Плотников, 21С1</td>\n",
       "      <td>170.0</td>\n",
       "      <td>5/6</td>\n",
       "      <td>подземная</td>\n",
       "      <td>400000.0 руб./ За месяц, Залог - 400000 руб., ...</td>\n",
       "      <td>+79660342340, +79099269384</td>\n",
       "      <td>...</td>\n",
       "      <td>Ванна</td>\n",
       "      <td>Душевая кабина</td>\n",
       "      <td>Стиральная машина</td>\n",
       "      <td>Кондиционер</td>\n",
       "      <td>Посудомоечная машина</td>\n",
       "      <td>Телевизор</td>\n",
       "      <td>Холодильник</td>\n",
       "      <td>Интернет</td>\n",
       "      <td>Телефон</td>\n",
       "      <td>5</td>\n",
       "    </tr>\n",
       "    <tr>\n",
       "      <th>4</th>\n",
       "      <td>273614615</td>\n",
       "      <td>2.0</td>\n",
       "      <td>Квартира</td>\n",
       "      <td>Арбатская</td>\n",
       "      <td>Москва, улица Новый Арбат, 15</td>\n",
       "      <td>58.0</td>\n",
       "      <td>12/26, Панельный</td>\n",
       "      <td>уличная</td>\n",
       "      <td>225000.0 руб./ За месяц, Залог - 225000 руб., ...</td>\n",
       "      <td>+79852432860</td>\n",
       "      <td>...</td>\n",
       "      <td>Ванна</td>\n",
       "      <td>Душевая кабина</td>\n",
       "      <td>Стиральная машина</td>\n",
       "      <td>0</td>\n",
       "      <td>Посудомоечная машина</td>\n",
       "      <td>Телевизор</td>\n",
       "      <td>Холодильник</td>\n",
       "      <td>Интернет</td>\n",
       "      <td>0</td>\n",
       "      <td>12</td>\n",
       "    </tr>\n",
       "  </tbody>\n",
       "</table>\n",
       "<p>5 rows × 34 columns</p>\n",
       "</div>"
      ],
      "text/plain": [
       "          ID  number_of_rooms      type       metro  \\\n",
       "0  271271157              4.0  Квартира  Смоленская   \n",
       "1  271634126              4.0  Квартира  Смоленская   \n",
       "2  271173086              4.0  Квартира  Смоленская   \n",
       "3  272197456              4.0  Квартира  Смоленская   \n",
       "4  273614615              2.0  Квартира   Арбатская   \n",
       "\n",
       "                             adress   size                   building  \\\n",
       "0     Москва, улица Новый Арбат, 27  200.0           5/16, Монолитный   \n",
       "1     Москва, улица Новый Арбат, 27  198.0  5/16, Монолитно-кирпичный   \n",
       "2     Москва, улица Новый Арбат, 27  200.0                       5/16   \n",
       "3  Москва, переулок Плотников, 21С1  170.0                        5/6   \n",
       "4     Москва, улица Новый Арбат, 15   58.0           12/26, Панельный   \n",
       "\n",
       "     parking                                              price  \\\n",
       "0  подземная  500000.0 руб./ За месяц, Залог - 500000 руб., ...   \n",
       "1  подземная  500000.0 руб./ За месяц, Залог - 500000 руб., ...   \n",
       "2  подземная  500000.0 руб./ За месяц, Залог - 500000 руб., ...   \n",
       "3  подземная  400000.0 руб./ За месяц, Залог - 400000 руб., ...   \n",
       "4    уличная  225000.0 руб./ За месяц, Залог - 225000 руб., ...   \n",
       "\n",
       "                 phone_number  ...   bath          shower    washing_machine  \\\n",
       "0                +79166369231  ...  Ванна  Душевая кабина  Стиральная машина   \n",
       "1                +79850608590  ...  Ванна  Душевая кабина  Стиральная машина   \n",
       "2  +79672086536, +79099269384  ...  Ванна  Душевая кабина  Стиральная машина   \n",
       "3  +79660342340, +79099269384  ...  Ванна  Душевая кабина  Стиральная машина   \n",
       "4                +79852432860  ...  Ванна  Душевая кабина  Стиральная машина   \n",
       "\n",
       "  air_conditioner            dishwasher television       frodge  internet  \\\n",
       "0     Кондиционер  Посудомоечная машина  Телевизор  Холодильник  Интернет   \n",
       "1     Кондиционер  Посудомоечная машина  Телевизор  Холодильник  Интернет   \n",
       "2     Кондиционер  Посудомоечная машина  Телевизор  Холодильник  Интернет   \n",
       "3     Кондиционер  Посудомоечная машина  Телевизор  Холодильник  Интернет   \n",
       "4               0  Посудомоечная машина  Телевизор  Холодильник  Интернет   \n",
       "\n",
       "  telephone floor  \n",
       "0   Телефон     5  \n",
       "1         0     5  \n",
       "2   Телефон     5  \n",
       "3   Телефон     5  \n",
       "4         0    12  \n",
       "\n",
       "[5 rows x 34 columns]"
      ]
     },
     "execution_count": 30,
     "metadata": {},
     "output_type": "execute_result"
    }
   ],
   "source": [
    "df = pd.read_csv('/home/svetlana/Phase0/DS-Project-week3/full_data.csv', index_col=0)\n",
    "df.head(5)"
   ]
  },
  {
   "cell_type": "code",
   "execution_count": 31,
   "metadata": {},
   "outputs": [
    {
     "name": "stdout",
     "output_type": "stream",
     "text": [
      "<class 'pandas.core.frame.DataFrame'>\n",
      "Index: 19737 entries, 0 to 23367\n",
      "Data columns (total 34 columns):\n",
      " #   Column               Non-Null Count  Dtype  \n",
      "---  ------               --------------  -----  \n",
      " 0   ID                   19737 non-null  int64  \n",
      " 1   number_of_rooms      19737 non-null  float64\n",
      " 2   type                 19737 non-null  object \n",
      " 3   metro                19737 non-null  object \n",
      " 4   adress               19737 non-null  object \n",
      " 5   size                 19737 non-null  float64\n",
      " 6   building             19737 non-null  object \n",
      " 7   parking              19737 non-null  object \n",
      " 8   price                19737 non-null  object \n",
      " 9   phone_number         19737 non-null  object \n",
      " 10  description          19737 non-null  object \n",
      " 11  refurbishment        19737 non-null  object \n",
      " 12  balcony              19737 non-null  object \n",
      " 13  window               19737 non-null  object \n",
      " 14  bathroom             19737 non-null  object \n",
      " 15  allow_pets_children  19737 non-null  object \n",
      " 16  residential_complex  19737 non-null  int64  \n",
      " 17  ceiling_height       19737 non-null  float64\n",
      " 18  elevator             19737 non-null  object \n",
      " 19  garbage_chute        19737 non-null  object \n",
      " 20  link                 19737 non-null  object \n",
      " 21  monthly_payment      19737 non-null  float64\n",
      " 22  currency             19737 non-null  object \n",
      " 23  kitchen_furniture    19737 non-null  object \n",
      " 24  bath                 19737 non-null  object \n",
      " 25  shower               19737 non-null  object \n",
      " 26  washing_machine      19737 non-null  object \n",
      " 27  air_conditioner      19737 non-null  object \n",
      " 28  dishwasher           19737 non-null  object \n",
      " 29  television           19737 non-null  object \n",
      " 30  frodge               19737 non-null  object \n",
      " 31  internet             19737 non-null  object \n",
      " 32  telephone            19737 non-null  object \n",
      " 33  floor                19737 non-null  int64  \n",
      "dtypes: float64(4), int64(3), object(27)\n",
      "memory usage: 5.3+ MB\n"
     ]
    }
   ],
   "source": [
    "df.info()"
   ]
  },
  {
   "cell_type": "code",
   "execution_count": 32,
   "metadata": {},
   "outputs": [
    {
     "data": {
      "text/plain": [
       "bath\n",
       "0.1    14279\n",
       "0       5458\n",
       "Name: count, dtype: int64"
      ]
     },
     "execution_count": 32,
     "metadata": {},
     "output_type": "execute_result"
    }
   ],
   "source": [
    "df['bath'] = df['bath'].replace('Ванна', 0.1)\n",
    "df['bath'].value_counts()"
   ]
  },
  {
   "cell_type": "code",
   "execution_count": 33,
   "metadata": {},
   "outputs": [
    {
     "data": {
      "text/plain": [
       "shower\n",
       "0      15025\n",
       "0.1     4712\n",
       "Name: count, dtype: int64"
      ]
     },
     "execution_count": 33,
     "metadata": {},
     "output_type": "execute_result"
    }
   ],
   "source": [
    "df['shower'] = df['shower'].replace('Душевая кабина', 0.1)\n",
    "df['shower'].value_counts()\n",
    "# bath\tshower\twashing_machine\tair_conditioner\tdishwasher\ttelevision\tfrodge\tinternet\ttelephone\t"
   ]
  },
  {
   "cell_type": "code",
   "execution_count": 34,
   "metadata": {},
   "outputs": [
    {
     "data": {
      "text/plain": [
       "washing_machine\n",
       "0.1    18821\n",
       "0        916\n",
       "Name: count, dtype: int64"
      ]
     },
     "execution_count": 34,
     "metadata": {},
     "output_type": "execute_result"
    }
   ],
   "source": [
    "df['washing_machine'] = df['washing_machine'].replace('Стиральная машина', 0.1)\n",
    "df['washing_machine'].value_counts()"
   ]
  },
  {
   "cell_type": "code",
   "execution_count": 35,
   "metadata": {},
   "outputs": [
    {
     "data": {
      "text/plain": [
       "air_conditioner\n",
       "0      11773\n",
       "0.1     7964\n",
       "Name: count, dtype: int64"
      ]
     },
     "execution_count": 35,
     "metadata": {},
     "output_type": "execute_result"
    }
   ],
   "source": [
    "df['air_conditioner'] = df['air_conditioner'].replace('Кондиционер', 0.1)\n",
    "df['air_conditioner'].value_counts()"
   ]
  },
  {
   "cell_type": "code",
   "execution_count": 36,
   "metadata": {},
   "outputs": [
    {
     "data": {
      "text/plain": [
       "dishwasher\n",
       "0      13013\n",
       "0.1     6724\n",
       "Name: count, dtype: int64"
      ]
     },
     "execution_count": 36,
     "metadata": {},
     "output_type": "execute_result"
    }
   ],
   "source": [
    "df['dishwasher'] = df['dishwasher'].replace('Посудомоечная машина', 0.1)\n",
    "df['dishwasher'].value_counts()"
   ]
  },
  {
   "cell_type": "code",
   "execution_count": 37,
   "metadata": {},
   "outputs": [
    {
     "data": {
      "text/plain": [
       "television\n",
       "0.1    12657\n",
       "0       7080\n",
       "Name: count, dtype: int64"
      ]
     },
     "execution_count": 37,
     "metadata": {},
     "output_type": "execute_result"
    }
   ],
   "source": [
    "df['television'] = df['television'].replace('Телевизор', 0.1)\n",
    "df['television'].value_counts()"
   ]
  },
  {
   "cell_type": "code",
   "execution_count": 38,
   "metadata": {},
   "outputs": [
    {
     "data": {
      "text/plain": [
       "frodge\n",
       "0.1    16949\n",
       "0       2788\n",
       "Name: count, dtype: int64"
      ]
     },
     "execution_count": 38,
     "metadata": {},
     "output_type": "execute_result"
    }
   ],
   "source": [
    "df['frodge'] = df['frodge'].replace('Холодильник', 0.1)\n",
    "df['frodge'].value_counts()"
   ]
  },
  {
   "cell_type": "code",
   "execution_count": 39,
   "metadata": {},
   "outputs": [
    {
     "data": {
      "text/plain": [
       "internet\n",
       "0.1    15639\n",
       "0       4098\n",
       "Name: count, dtype: int64"
      ]
     },
     "execution_count": 39,
     "metadata": {},
     "output_type": "execute_result"
    }
   ],
   "source": [
    "df['internet'] = df['internet'].replace('Интернет', 0.1)\n",
    "df['internet'].value_counts()"
   ]
  },
  {
   "cell_type": "code",
   "execution_count": 40,
   "metadata": {},
   "outputs": [
    {
     "data": {
      "text/plain": [
       "telephone\n",
       "0      15729\n",
       "0.1     4008\n",
       "Name: count, dtype: int64"
      ]
     },
     "execution_count": 40,
     "metadata": {},
     "output_type": "execute_result"
    }
   ],
   "source": [
    "df['telephone'] = df['telephone'].replace('Телефон', 0.1)\n",
    "df['telephone'].value_counts()"
   ]
  }
 ],
 "metadata": {
  "kernelspec": {
   "display_name": "myvenv",
   "language": "python",
   "name": "python3"
  },
  "language_info": {
   "codemirror_mode": {
    "name": "ipython",
    "version": 3
   },
   "file_extension": ".py",
   "mimetype": "text/x-python",
   "name": "python",
   "nbconvert_exporter": "python",
   "pygments_lexer": "ipython3",
   "version": "3.10.12"
  }
 },
 "nbformat": 4,
 "nbformat_minor": 2
}
